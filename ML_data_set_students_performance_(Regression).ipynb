{
 "cells": [
  {
   "cell_type": "code",
   "execution_count": 1,
   "metadata": {},
   "outputs": [],
   "source": [
    "# Import necessary libraries\n",
    "import pandas as pd\n",
    "import numpy as np\n",
    "import matplotlib\n",
    "from matplotlib import pyplot as plt\n",
    "import seaborn as sns"
   ]
  },
  {
   "cell_type": "code",
   "execution_count": 2,
   "metadata": {},
   "outputs": [],
   "source": [
    "# Import data set\n",
    "df = pd.read_csv('StudentsPerformance.csv')"
   ]
  },
  {
   "cell_type": "markdown",
   "metadata": {},
   "source": [
    "# Data Overview"
   ]
  },
  {
   "cell_type": "code",
   "execution_count": 3,
   "metadata": {},
   "outputs": [
    {
     "data": {
      "text/html": [
       "<div>\n",
       "<style scoped>\n",
       "    .dataframe tbody tr th:only-of-type {\n",
       "        vertical-align: middle;\n",
       "    }\n",
       "\n",
       "    .dataframe tbody tr th {\n",
       "        vertical-align: top;\n",
       "    }\n",
       "\n",
       "    .dataframe thead th {\n",
       "        text-align: right;\n",
       "    }\n",
       "</style>\n",
       "<table border=\"1\" class=\"dataframe\">\n",
       "  <thead>\n",
       "    <tr style=\"text-align: right;\">\n",
       "      <th></th>\n",
       "      <th>gender</th>\n",
       "      <th>race/ethnicity</th>\n",
       "      <th>parental level of education</th>\n",
       "      <th>lunch</th>\n",
       "      <th>test preparation course</th>\n",
       "      <th>math score</th>\n",
       "      <th>reading score</th>\n",
       "      <th>writing score</th>\n",
       "    </tr>\n",
       "  </thead>\n",
       "  <tbody>\n",
       "    <tr>\n",
       "      <th>0</th>\n",
       "      <td>female</td>\n",
       "      <td>group B</td>\n",
       "      <td>bachelor's degree</td>\n",
       "      <td>standard</td>\n",
       "      <td>none</td>\n",
       "      <td>72</td>\n",
       "      <td>72</td>\n",
       "      <td>74</td>\n",
       "    </tr>\n",
       "    <tr>\n",
       "      <th>1</th>\n",
       "      <td>female</td>\n",
       "      <td>group C</td>\n",
       "      <td>some college</td>\n",
       "      <td>standard</td>\n",
       "      <td>completed</td>\n",
       "      <td>69</td>\n",
       "      <td>90</td>\n",
       "      <td>88</td>\n",
       "    </tr>\n",
       "    <tr>\n",
       "      <th>2</th>\n",
       "      <td>female</td>\n",
       "      <td>group B</td>\n",
       "      <td>master's degree</td>\n",
       "      <td>standard</td>\n",
       "      <td>none</td>\n",
       "      <td>90</td>\n",
       "      <td>95</td>\n",
       "      <td>93</td>\n",
       "    </tr>\n",
       "    <tr>\n",
       "      <th>3</th>\n",
       "      <td>male</td>\n",
       "      <td>group A</td>\n",
       "      <td>associate's degree</td>\n",
       "      <td>free/reduced</td>\n",
       "      <td>none</td>\n",
       "      <td>47</td>\n",
       "      <td>57</td>\n",
       "      <td>44</td>\n",
       "    </tr>\n",
       "    <tr>\n",
       "      <th>4</th>\n",
       "      <td>male</td>\n",
       "      <td>group C</td>\n",
       "      <td>some college</td>\n",
       "      <td>standard</td>\n",
       "      <td>none</td>\n",
       "      <td>76</td>\n",
       "      <td>78</td>\n",
       "      <td>75</td>\n",
       "    </tr>\n",
       "  </tbody>\n",
       "</table>\n",
       "</div>"
      ],
      "text/plain": [
       "   gender race/ethnicity parental level of education         lunch  \\\n",
       "0  female        group B           bachelor's degree      standard   \n",
       "1  female        group C                some college      standard   \n",
       "2  female        group B             master's degree      standard   \n",
       "3    male        group A          associate's degree  free/reduced   \n",
       "4    male        group C                some college      standard   \n",
       "\n",
       "  test preparation course  math score  reading score  writing score  \n",
       "0                    none          72             72             74  \n",
       "1               completed          69             90             88  \n",
       "2                    none          90             95             93  \n",
       "3                    none          47             57             44  \n",
       "4                    none          76             78             75  "
      ]
     },
     "execution_count": 3,
     "metadata": {},
     "output_type": "execute_result"
    }
   ],
   "source": [
    "df.head()"
   ]
  },
  {
   "cell_type": "code",
   "execution_count": 4,
   "metadata": {},
   "outputs": [
    {
     "name": "stdout",
     "output_type": "stream",
     "text": [
      "Shape of data set:\n",
      "\n",
      " (1000, 8) \n",
      "\n",
      "----------------------------------------\n",
      "Values: \n",
      "\n",
      " [['female' 'group B' \"bachelor's degree\" ... 72 72 74]\n",
      " ['female' 'group C' 'some college' ... 69 90 88]\n",
      " ['female' 'group B' \"master's degree\" ... 90 95 93]\n",
      " ...\n",
      " ['female' 'group C' 'high school' ... 59 71 65]\n",
      " ['female' 'group D' 'some college' ... 68 78 77]\n",
      " ['female' 'group D' 'some college' ... 77 86 86]] \n",
      "\n",
      "----------------------------------------\n",
      "Columns: \n",
      "\n",
      "Index(['gender', 'race/ethnicity', 'parental level of education', 'lunch',\n",
      "       'test preparation course', 'math score', 'reading score',\n",
      "       'writing score'],\n",
      "      dtype='object')\n",
      "\n",
      "----------------------------------------\n",
      "Short data analyse: \n",
      "\n"
     ]
    },
    {
     "data": {
      "text/html": [
       "<div>\n",
       "<style scoped>\n",
       "    .dataframe tbody tr th:only-of-type {\n",
       "        vertical-align: middle;\n",
       "    }\n",
       "\n",
       "    .dataframe tbody tr th {\n",
       "        vertical-align: top;\n",
       "    }\n",
       "\n",
       "    .dataframe thead th {\n",
       "        text-align: right;\n",
       "    }\n",
       "</style>\n",
       "<table border=\"1\" class=\"dataframe\">\n",
       "  <thead>\n",
       "    <tr style=\"text-align: right;\">\n",
       "      <th></th>\n",
       "      <th>math score</th>\n",
       "      <th>reading score</th>\n",
       "      <th>writing score</th>\n",
       "    </tr>\n",
       "  </thead>\n",
       "  <tbody>\n",
       "    <tr>\n",
       "      <th>count</th>\n",
       "      <td>1000.00000</td>\n",
       "      <td>1000.000000</td>\n",
       "      <td>1000.000000</td>\n",
       "    </tr>\n",
       "    <tr>\n",
       "      <th>mean</th>\n",
       "      <td>66.08900</td>\n",
       "      <td>69.169000</td>\n",
       "      <td>68.054000</td>\n",
       "    </tr>\n",
       "    <tr>\n",
       "      <th>std</th>\n",
       "      <td>15.16308</td>\n",
       "      <td>14.600192</td>\n",
       "      <td>15.195657</td>\n",
       "    </tr>\n",
       "    <tr>\n",
       "      <th>min</th>\n",
       "      <td>0.00000</td>\n",
       "      <td>17.000000</td>\n",
       "      <td>10.000000</td>\n",
       "    </tr>\n",
       "    <tr>\n",
       "      <th>25%</th>\n",
       "      <td>57.00000</td>\n",
       "      <td>59.000000</td>\n",
       "      <td>57.750000</td>\n",
       "    </tr>\n",
       "    <tr>\n",
       "      <th>50%</th>\n",
       "      <td>66.00000</td>\n",
       "      <td>70.000000</td>\n",
       "      <td>69.000000</td>\n",
       "    </tr>\n",
       "    <tr>\n",
       "      <th>75%</th>\n",
       "      <td>77.00000</td>\n",
       "      <td>79.000000</td>\n",
       "      <td>79.000000</td>\n",
       "    </tr>\n",
       "    <tr>\n",
       "      <th>max</th>\n",
       "      <td>100.00000</td>\n",
       "      <td>100.000000</td>\n",
       "      <td>100.000000</td>\n",
       "    </tr>\n",
       "  </tbody>\n",
       "</table>\n",
       "</div>"
      ],
      "text/plain": [
       "       math score  reading score  writing score\n",
       "count  1000.00000    1000.000000    1000.000000\n",
       "mean     66.08900      69.169000      68.054000\n",
       "std      15.16308      14.600192      15.195657\n",
       "min       0.00000      17.000000      10.000000\n",
       "25%      57.00000      59.000000      57.750000\n",
       "50%      66.00000      70.000000      69.000000\n",
       "75%      77.00000      79.000000      79.000000\n",
       "max     100.00000     100.000000     100.000000"
      ]
     },
     "execution_count": 4,
     "metadata": {},
     "output_type": "execute_result"
    }
   ],
   "source": [
    "print(f'Shape of data set:\\n\\n {df.shape} \\n')\n",
    "print('----'*10)\n",
    "print(f'Values: \\n\\n {df.values} \\n')\n",
    "print('----'*10)\n",
    "print(f'Columns: \\n\\n{df.columns}\\n')\n",
    "print('----'*10)\n",
    "print('Short data analyse: \\n')\n",
    "df.describe()"
   ]
  },
  {
   "cell_type": "code",
   "execution_count": 5,
   "metadata": {},
   "outputs": [
    {
     "name": "stdout",
     "output_type": "stream",
     "text": [
      "<class 'pandas.core.frame.DataFrame'>\n",
      "RangeIndex: 1000 entries, 0 to 999\n",
      "Data columns (total 8 columns):\n",
      " #   Column                       Non-Null Count  Dtype \n",
      "---  ------                       --------------  ----- \n",
      " 0   gender                       1000 non-null   object\n",
      " 1   race/ethnicity               1000 non-null   object\n",
      " 2   parental level of education  1000 non-null   object\n",
      " 3   lunch                        1000 non-null   object\n",
      " 4   test preparation course      1000 non-null   object\n",
      " 5   math score                   1000 non-null   int64 \n",
      " 6   reading score                1000 non-null   int64 \n",
      " 7   writing score                1000 non-null   int64 \n",
      "dtypes: int64(3), object(5)\n",
      "memory usage: 62.6+ KB\n"
     ]
    }
   ],
   "source": [
    "df.info()"
   ]
  },
  {
   "cell_type": "code",
   "execution_count": 6,
   "metadata": {},
   "outputs": [
    {
     "name": "stdout",
     "output_type": "stream",
     "text": [
      "Missing Values from Students Performance data set\n",
      "\n",
      "                             Total  Percent\n",
      "writing score                    0      0.0\n",
      "reading score                    0      0.0\n",
      "math score                       0      0.0\n",
      "test preparation course          0      0.0\n",
      "lunch                            0      0.0\n",
      "parental level of education      0      0.0\n",
      "race/ethnicity                   0      0.0\n",
      "gender                           0      0.0\n"
     ]
    }
   ],
   "source": [
    "# function to identify missing value from all features\n",
    "def missing_values (dataset):\n",
    "    total = df.isnull().sum().sort_values(ascending = False)\n",
    "    percent = ((df.isnull().sum()/df.isnull().count()*100).sort_values(ascending = False))\n",
    "    missing_values= pd.concat([total,percent], axis=1, keys= ['Total', 'Percent'])\n",
    "    return missing_values\n",
    "print('Missing Values from Students Performance data set')\n",
    "print()\n",
    "print (missing_values (df))"
   ]
  },
  {
   "cell_type": "code",
   "execution_count": 7,
   "metadata": {},
   "outputs": [
    {
     "name": "stdout",
     "output_type": "stream",
     "text": [
      "Numeric features of data set are:\n",
      "\n",
      "   math score  reading score  writing score\n",
      "0          72             72             74\n",
      "1          69             90             88\n",
      "2          90             95             93\n"
     ]
    }
   ],
   "source": [
    "#create funcion to identify all numeric data\n",
    "def numeric(data):\n",
    "    numeric_cols = data.select_dtypes(np.number).columns.tolist()\n",
    "    return data[numeric_cols].head(3)\n",
    "print('Numeric features of data set are:')\n",
    "print()\n",
    "numeric_df= numeric(df)\n",
    "print(numeric_df)"
   ]
  },
  {
   "cell_type": "code",
   "execution_count": 8,
   "metadata": {},
   "outputs": [
    {
     "name": "stdout",
     "output_type": "stream",
     "text": [
      "Categoric features of data set are:\n",
      "\n",
      "   gender race/ethnicity parental level of education     lunch  \\\n",
      "0  female        group B           bachelor's degree  standard   \n",
      "1  female        group C                some college  standard   \n",
      "2  female        group B             master's degree  standard   \n",
      "\n",
      "  test preparation course  \n",
      "0                    none  \n",
      "1               completed  \n",
      "2                    none  \n"
     ]
    }
   ],
   "source": [
    "#create funcion to identify all categorical data\n",
    "def categoric(data):\n",
    "    categoric_cols = data.select_dtypes(exclude=np.number).columns.tolist()\n",
    "    return data[categoric_cols].head(3)\n",
    "print('Categoric features of data set are:')\n",
    "print()\n",
    "categoric_df= categoric(df)\n",
    "print(categoric_df)"
   ]
  },
  {
   "cell_type": "code",
   "execution_count": 9,
   "metadata": {},
   "outputs": [
    {
     "data": {
      "text/html": [
       "<div>\n",
       "<style scoped>\n",
       "    .dataframe tbody tr th:only-of-type {\n",
       "        vertical-align: middle;\n",
       "    }\n",
       "\n",
       "    .dataframe tbody tr th {\n",
       "        vertical-align: top;\n",
       "    }\n",
       "\n",
       "    .dataframe thead th {\n",
       "        text-align: right;\n",
       "    }\n",
       "</style>\n",
       "<table border=\"1\" class=\"dataframe\">\n",
       "  <thead>\n",
       "    <tr style=\"text-align: right;\">\n",
       "      <th></th>\n",
       "      <th>math score</th>\n",
       "      <th>reading score</th>\n",
       "      <th>writing score</th>\n",
       "    </tr>\n",
       "  </thead>\n",
       "  <tbody>\n",
       "    <tr>\n",
       "      <th>0</th>\n",
       "      <td>72</td>\n",
       "      <td>72</td>\n",
       "      <td>74</td>\n",
       "    </tr>\n",
       "    <tr>\n",
       "      <th>1</th>\n",
       "      <td>69</td>\n",
       "      <td>90</td>\n",
       "      <td>88</td>\n",
       "    </tr>\n",
       "    <tr>\n",
       "      <th>2</th>\n",
       "      <td>90</td>\n",
       "      <td>95</td>\n",
       "      <td>93</td>\n",
       "    </tr>\n",
       "  </tbody>\n",
       "</table>\n",
       "</div>"
      ],
      "text/plain": [
       "   math score  reading score  writing score\n",
       "0          72             72             74\n",
       "1          69             90             88\n",
       "2          90             95             93"
      ]
     },
     "execution_count": 9,
     "metadata": {},
     "output_type": "execute_result"
    }
   ],
   "source": [
    "df_num= df.drop(categoric_df, axis = 1)\n",
    "df_num.head(3)"
   ]
  },
  {
   "cell_type": "markdown",
   "metadata": {},
   "source": [
    "# Exploratory Data Analysis"
   ]
  },
  {
   "cell_type": "code",
   "execution_count": 10,
   "metadata": {},
   "outputs": [
    {
     "data": {
      "text/plain": [
       "(3.5, -0.5)"
      ]
     },
     "execution_count": 10,
     "metadata": {},
     "output_type": "execute_result"
    },
    {
     "data": {
      "image/png": "[encoded data removed]",
      "text/plain": [
       "<Figure size 1440x720 with 2 Axes>"
      ]
     },
     "metadata": {
      "needs_background": "light"
     },
     "output_type": "display_data"
    }
   ],
   "source": [
    "# correlation \n",
    "plt.figure(figsize=(20,10))\n",
    "ax = sns.heatmap(df.corr(), annot=True, cmap='ocean',annot_kws={'size': 10},\n",
    "                linecolor='black', center=False,  linewidths=.5)\n",
    "bottom, top = ax.get_ylim()\n",
    "ax.set_ylim(bottom + 0.5, top - 0.5) "
   ]
  },
  {
   "cell_type": "code",
   "execution_count": 11,
   "metadata": {},
   "outputs": [
    {
     "data": {
      "text/plain": [
       "3"
      ]
     },
     "execution_count": 11,
     "metadata": {},
     "output_type": "execute_result"
    }
   ],
   "source": [
    "num_cols= [col_name for col_name in df_num]\n",
    "len(num_cols)"
   ]
  },
  {
   "cell_type": "code",
   "execution_count": 12,
   "metadata": {},
   "outputs": [
    {
     "data": {
      "image/png": "[encoded data removed]",
      "text/plain": [
       "<Figure size 720x1080 with 3 Axes>"
      ]
     },
     "metadata": {
      "needs_background": "light"
     },
     "output_type": "display_data"
    }
   ],
   "source": [
    "# Let see some visualisation of features\n",
    "\n",
    "fig, ax = plt.subplots(nrows=3, ncols=1, figsize=(10, 15))\n",
    "start = 0\n",
    "for j in range(3):\n",
    "    for i in range(1):\n",
    "        if start == len(num_cols):\n",
    "            break\n",
    "        sns.barplot(x=num_cols[start],\n",
    "                    y='gender', data=df, ax=ax[j])\n",
    "        start += 1"
   ]
  },
  {
   "cell_type": "code",
   "execution_count": 13,
   "metadata": {},
   "outputs": [
    {
     "data": {
      "image/png": "[encoded data removed]",
      "text/plain": [
       "<Figure size 1440x1080 with 4 Axes>"
      ]
     },
     "metadata": {
      "needs_background": "light"
     },
     "output_type": "display_data"
    }
   ],
   "source": [
    "# Let's plot some histograms to have a previzualisation of some of the data\n",
    "df.hist(bins=50, figsize=(20,15))\n",
    "plt.show()"
   ]
  },
  {
   "cell_type": "code",
   "execution_count": 14,
   "metadata": {},
   "outputs": [
    {
     "data": {
      "image/png": "[encoded data removed]",
      "text/plain": [
       "<Figure size 1440x720 with 2 Axes>"
      ]
     },
     "metadata": {
      "needs_background": "light"
     },
     "output_type": "display_data"
    }
   ],
   "source": [
    "plain_features = ['reading score', 'writing score']\n",
    "fig, ax = plt.subplots(nrows=1, ncols=2, figsize=(20, 10))\n",
    "start = 0\n",
    "for j in range(1):\n",
    "    for i in range(2):\n",
    "        if start == len(plain_features):\n",
    "            break\n",
    "        sns.regplot(x=plain_features[start],\n",
    "                    y='math score', data=df, ax=ax[i])\n",
    "        start += 1"
   ]
  },
  {
   "cell_type": "code",
   "execution_count": 15,
   "metadata": {},
   "outputs": [
    {
     "data": {
      "image/png": "[encoded data removed]",
      "text/plain": [
       "<Figure size 1440x720 with 3 Axes>"
      ]
     },
     "metadata": {
      "needs_background": "light"
     },
     "output_type": "display_data"
    }
   ],
   "source": [
    "plain_features = ['reading score', 'writing score', 'math score']\n",
    "fig, ax = plt.subplots(nrows=1, ncols=3, figsize=(20, 10))\n",
    "start = 0\n",
    "for j in range(1):\n",
    "    for i in range(3):\n",
    "        if start == len(plain_features):\n",
    "            break\n",
    "        sns.boxplot(x=plain_features[start],\n",
    "                    y='test preparation course', data=df, hue='parental level of education', ax=ax[i])\n",
    "        start += 1"
   ]
  },
  {
   "cell_type": "markdown",
   "metadata": {},
   "source": [
    "# PREPROCESING"
   ]
  },
  {
   "cell_type": "code",
   "execution_count": 16,
   "metadata": {},
   "outputs": [
    {
     "data": {
      "text/html": [
       "<div>\n",
       "<style scoped>\n",
       "    .dataframe tbody tr th:only-of-type {\n",
       "        vertical-align: middle;\n",
       "    }\n",
       "\n",
       "    .dataframe tbody tr th {\n",
       "        vertical-align: top;\n",
       "    }\n",
       "\n",
       "    .dataframe thead th {\n",
       "        text-align: right;\n",
       "    }\n",
       "</style>\n",
       "<table border=\"1\" class=\"dataframe\">\n",
       "  <thead>\n",
       "    <tr style=\"text-align: right;\">\n",
       "      <th></th>\n",
       "      <th>gender</th>\n",
       "      <th>race/ethnicity</th>\n",
       "      <th>parental level of education</th>\n",
       "      <th>lunch</th>\n",
       "      <th>test preparation course</th>\n",
       "      <th>math score</th>\n",
       "      <th>reading score</th>\n",
       "      <th>writing score</th>\n",
       "    </tr>\n",
       "  </thead>\n",
       "  <tbody>\n",
       "    <tr>\n",
       "      <th>0</th>\n",
       "      <td>female</td>\n",
       "      <td>group B</td>\n",
       "      <td>bachelor's degree</td>\n",
       "      <td>standard</td>\n",
       "      <td>none</td>\n",
       "      <td>72</td>\n",
       "      <td>72</td>\n",
       "      <td>74</td>\n",
       "    </tr>\n",
       "    <tr>\n",
       "      <th>1</th>\n",
       "      <td>female</td>\n",
       "      <td>group C</td>\n",
       "      <td>some college</td>\n",
       "      <td>standard</td>\n",
       "      <td>completed</td>\n",
       "      <td>69</td>\n",
       "      <td>90</td>\n",
       "      <td>88</td>\n",
       "    </tr>\n",
       "    <tr>\n",
       "      <th>2</th>\n",
       "      <td>female</td>\n",
       "      <td>group B</td>\n",
       "      <td>master's degree</td>\n",
       "      <td>standard</td>\n",
       "      <td>none</td>\n",
       "      <td>90</td>\n",
       "      <td>95</td>\n",
       "      <td>93</td>\n",
       "    </tr>\n",
       "  </tbody>\n",
       "</table>\n",
       "</div>"
      ],
      "text/plain": [
       "   gender race/ethnicity parental level of education     lunch  \\\n",
       "0  female        group B           bachelor's degree  standard   \n",
       "1  female        group C                some college  standard   \n",
       "2  female        group B             master's degree  standard   \n",
       "\n",
       "  test preparation course  math score  reading score  writing score  \n",
       "0                    none          72             72             74  \n",
       "1               completed          69             90             88  \n",
       "2                    none          90             95             93  "
      ]
     },
     "metadata": {},
     "output_type": "display_data"
    },
    {
     "name": "stdout",
     "output_type": "stream",
     "text": [
      "\n",
      "After transforming gender and test preparation course \n",
      "\n"
     ]
    },
    {
     "data": {
      "text/html": [
       "<div>\n",
       "<style scoped>\n",
       "    .dataframe tbody tr th:only-of-type {\n",
       "        vertical-align: middle;\n",
       "    }\n",
       "\n",
       "    .dataframe tbody tr th {\n",
       "        vertical-align: top;\n",
       "    }\n",
       "\n",
       "    .dataframe thead th {\n",
       "        text-align: right;\n",
       "    }\n",
       "</style>\n",
       "<table border=\"1\" class=\"dataframe\">\n",
       "  <thead>\n",
       "    <tr style=\"text-align: right;\">\n",
       "      <th></th>\n",
       "      <th>gender</th>\n",
       "      <th>race/ethnicity</th>\n",
       "      <th>parental level of education</th>\n",
       "      <th>lunch</th>\n",
       "      <th>test preparation course</th>\n",
       "      <th>math score</th>\n",
       "      <th>reading score</th>\n",
       "      <th>writing score</th>\n",
       "      <th>gender_lab</th>\n",
       "      <th>tpc_lab</th>\n",
       "    </tr>\n",
       "  </thead>\n",
       "  <tbody>\n",
       "    <tr>\n",
       "      <th>0</th>\n",
       "      <td>female</td>\n",
       "      <td>group B</td>\n",
       "      <td>bachelor's degree</td>\n",
       "      <td>standard</td>\n",
       "      <td>none</td>\n",
       "      <td>72</td>\n",
       "      <td>72</td>\n",
       "      <td>74</td>\n",
       "      <td>0</td>\n",
       "      <td>1</td>\n",
       "    </tr>\n",
       "    <tr>\n",
       "      <th>1</th>\n",
       "      <td>female</td>\n",
       "      <td>group C</td>\n",
       "      <td>some college</td>\n",
       "      <td>standard</td>\n",
       "      <td>completed</td>\n",
       "      <td>69</td>\n",
       "      <td>90</td>\n",
       "      <td>88</td>\n",
       "      <td>0</td>\n",
       "      <td>0</td>\n",
       "    </tr>\n",
       "    <tr>\n",
       "      <th>2</th>\n",
       "      <td>female</td>\n",
       "      <td>group B</td>\n",
       "      <td>master's degree</td>\n",
       "      <td>standard</td>\n",
       "      <td>none</td>\n",
       "      <td>90</td>\n",
       "      <td>95</td>\n",
       "      <td>93</td>\n",
       "      <td>0</td>\n",
       "      <td>1</td>\n",
       "    </tr>\n",
       "  </tbody>\n",
       "</table>\n",
       "</div>"
      ],
      "text/plain": [
       "   gender race/ethnicity parental level of education     lunch  \\\n",
       "0  female        group B           bachelor's degree  standard   \n",
       "1  female        group C                some college  standard   \n",
       "2  female        group B             master's degree  standard   \n",
       "\n",
       "  test preparation course  math score  reading score  writing score  \\\n",
       "0                    none          72             72             74   \n",
       "1               completed          69             90             88   \n",
       "2                    none          90             95             93   \n",
       "\n",
       "   gender_lab  tpc_lab  \n",
       "0           0        1  \n",
       "1           0        0  \n",
       "2           0        1  "
      ]
     },
     "execution_count": 16,
     "metadata": {},
     "output_type": "execute_result"
    }
   ],
   "source": [
    "from sklearn.preprocessing import LabelEncoder\n",
    "df2 = df.copy()\n",
    "lab_enc = LabelEncoder()\n",
    "display(df.head(3))\n",
    "df2['gender_lab'] = lab_enc.fit_transform(df2['gender'].values)\n",
    "df2['tpc_lab'] = lab_enc.fit_transform(df2['test preparation course'].values)\n",
    "print()\n",
    "print('After transforming gender and test preparation course \\n')\n",
    "df2.head(3)"
   ]
  },
  {
   "cell_type": "code",
   "execution_count": 17,
   "metadata": {},
   "outputs": [
    {
     "data": {
      "text/html": [
       "<div>\n",
       "<style scoped>\n",
       "    .dataframe tbody tr th:only-of-type {\n",
       "        vertical-align: middle;\n",
       "    }\n",
       "\n",
       "    .dataframe tbody tr th {\n",
       "        vertical-align: top;\n",
       "    }\n",
       "\n",
       "    .dataframe thead th {\n",
       "        text-align: right;\n",
       "    }\n",
       "</style>\n",
       "<table border=\"1\" class=\"dataframe\">\n",
       "  <thead>\n",
       "    <tr style=\"text-align: right;\">\n",
       "      <th></th>\n",
       "      <th>x0_group A</th>\n",
       "      <th>x0_group B</th>\n",
       "      <th>x0_group C</th>\n",
       "      <th>x0_group D</th>\n",
       "      <th>x0_group E</th>\n",
       "    </tr>\n",
       "  </thead>\n",
       "  <tbody>\n",
       "    <tr>\n",
       "      <th>0</th>\n",
       "      <td>0.0</td>\n",
       "      <td>1.0</td>\n",
       "      <td>0.0</td>\n",
       "      <td>0.0</td>\n",
       "      <td>0.0</td>\n",
       "    </tr>\n",
       "    <tr>\n",
       "      <th>1</th>\n",
       "      <td>0.0</td>\n",
       "      <td>0.0</td>\n",
       "      <td>1.0</td>\n",
       "      <td>0.0</td>\n",
       "      <td>0.0</td>\n",
       "    </tr>\n",
       "    <tr>\n",
       "      <th>2</th>\n",
       "      <td>0.0</td>\n",
       "      <td>1.0</td>\n",
       "      <td>0.0</td>\n",
       "      <td>0.0</td>\n",
       "      <td>0.0</td>\n",
       "    </tr>\n",
       "    <tr>\n",
       "      <th>3</th>\n",
       "      <td>1.0</td>\n",
       "      <td>0.0</td>\n",
       "      <td>0.0</td>\n",
       "      <td>0.0</td>\n",
       "      <td>0.0</td>\n",
       "    </tr>\n",
       "    <tr>\n",
       "      <th>4</th>\n",
       "      <td>0.0</td>\n",
       "      <td>0.0</td>\n",
       "      <td>1.0</td>\n",
       "      <td>0.0</td>\n",
       "      <td>0.0</td>\n",
       "    </tr>\n",
       "  </tbody>\n",
       "</table>\n",
       "</div>"
      ],
      "text/plain": [
       "   x0_group A  x0_group B  x0_group C  x0_group D  x0_group E\n",
       "0         0.0         1.0         0.0         0.0         0.0\n",
       "1         0.0         0.0         1.0         0.0         0.0\n",
       "2         0.0         1.0         0.0         0.0         0.0\n",
       "3         1.0         0.0         0.0         0.0         0.0\n",
       "4         0.0         0.0         1.0         0.0         0.0"
      ]
     },
     "execution_count": 17,
     "metadata": {},
     "output_type": "execute_result"
    }
   ],
   "source": [
    "from sklearn.preprocessing import OneHotEncoder\n",
    "\n",
    "ohe = OneHotEncoder()\n",
    "ohe.fit(df2.loc[:,['race/ethnicity']])\n",
    "df_enc = pd.DataFrame(ohe.transform(df2.loc[:, ['race/ethnicity']]).toarray(), columns=ohe.get_feature_names())\n",
    "df_enc.head(5)"
   ]
  },
  {
   "cell_type": "code",
   "execution_count": 18,
   "metadata": {},
   "outputs": [
    {
     "data": {
      "text/html": [
       "<div>\n",
       "<style scoped>\n",
       "    .dataframe tbody tr th:only-of-type {\n",
       "        vertical-align: middle;\n",
       "    }\n",
       "\n",
       "    .dataframe tbody tr th {\n",
       "        vertical-align: top;\n",
       "    }\n",
       "\n",
       "    .dataframe thead th {\n",
       "        text-align: right;\n",
       "    }\n",
       "</style>\n",
       "<table border=\"1\" class=\"dataframe\">\n",
       "  <thead>\n",
       "    <tr style=\"text-align: right;\">\n",
       "      <th></th>\n",
       "      <th>x0_associate's degree</th>\n",
       "      <th>x0_bachelor's degree</th>\n",
       "      <th>x0_high school</th>\n",
       "      <th>x0_master's degree</th>\n",
       "      <th>x0_some college</th>\n",
       "      <th>x0_some high school</th>\n",
       "    </tr>\n",
       "  </thead>\n",
       "  <tbody>\n",
       "    <tr>\n",
       "      <th>0</th>\n",
       "      <td>0.0</td>\n",
       "      <td>1.0</td>\n",
       "      <td>0.0</td>\n",
       "      <td>0.0</td>\n",
       "      <td>0.0</td>\n",
       "      <td>0.0</td>\n",
       "    </tr>\n",
       "    <tr>\n",
       "      <th>1</th>\n",
       "      <td>0.0</td>\n",
       "      <td>0.0</td>\n",
       "      <td>0.0</td>\n",
       "      <td>0.0</td>\n",
       "      <td>1.0</td>\n",
       "      <td>0.0</td>\n",
       "    </tr>\n",
       "    <tr>\n",
       "      <th>2</th>\n",
       "      <td>0.0</td>\n",
       "      <td>0.0</td>\n",
       "      <td>0.0</td>\n",
       "      <td>1.0</td>\n",
       "      <td>0.0</td>\n",
       "      <td>0.0</td>\n",
       "    </tr>\n",
       "    <tr>\n",
       "      <th>3</th>\n",
       "      <td>1.0</td>\n",
       "      <td>0.0</td>\n",
       "      <td>0.0</td>\n",
       "      <td>0.0</td>\n",
       "      <td>0.0</td>\n",
       "      <td>0.0</td>\n",
       "    </tr>\n",
       "    <tr>\n",
       "      <th>4</th>\n",
       "      <td>0.0</td>\n",
       "      <td>0.0</td>\n",
       "      <td>0.0</td>\n",
       "      <td>0.0</td>\n",
       "      <td>1.0</td>\n",
       "      <td>0.0</td>\n",
       "    </tr>\n",
       "  </tbody>\n",
       "</table>\n",
       "</div>"
      ],
      "text/plain": [
       "   x0_associate's degree  x0_bachelor's degree  x0_high school  \\\n",
       "0                    0.0                   1.0             0.0   \n",
       "1                    0.0                   0.0             0.0   \n",
       "2                    0.0                   0.0             0.0   \n",
       "3                    1.0                   0.0             0.0   \n",
       "4                    0.0                   0.0             0.0   \n",
       "\n",
       "   x0_master's degree  x0_some college  x0_some high school  \n",
       "0                 0.0              0.0                  0.0  \n",
       "1                 0.0              1.0                  0.0  \n",
       "2                 1.0              0.0                  0.0  \n",
       "3                 0.0              0.0                  0.0  \n",
       "4                 0.0              1.0                  0.0  "
      ]
     },
     "execution_count": 18,
     "metadata": {},
     "output_type": "execute_result"
    }
   ],
   "source": [
    "ohe.fit(df2.loc[:, ['parental level of education']])\n",
    "df_enc1 = pd.DataFrame(ohe.transform(df2.loc[:, ['parental level of education']]).toarray(), columns=ohe.get_feature_names())\n",
    "df_enc1.head(5)"
   ]
  },
  {
   "cell_type": "code",
   "execution_count": 19,
   "metadata": {},
   "outputs": [
    {
     "data": {
      "text/html": [
       "<div>\n",
       "<style scoped>\n",
       "    .dataframe tbody tr th:only-of-type {\n",
       "        vertical-align: middle;\n",
       "    }\n",
       "\n",
       "    .dataframe tbody tr th {\n",
       "        vertical-align: top;\n",
       "    }\n",
       "\n",
       "    .dataframe thead th {\n",
       "        text-align: right;\n",
       "    }\n",
       "</style>\n",
       "<table border=\"1\" class=\"dataframe\">\n",
       "  <thead>\n",
       "    <tr style=\"text-align: right;\">\n",
       "      <th></th>\n",
       "      <th>gender</th>\n",
       "      <th>race/ethnicity</th>\n",
       "      <th>parental level of education</th>\n",
       "      <th>lunch</th>\n",
       "      <th>test preparation course</th>\n",
       "      <th>math score</th>\n",
       "      <th>reading score</th>\n",
       "      <th>writing score</th>\n",
       "      <th>gender_lab</th>\n",
       "      <th>tpc_lab</th>\n",
       "      <th>...</th>\n",
       "      <th>x0_group B</th>\n",
       "      <th>x0_group C</th>\n",
       "      <th>x0_group D</th>\n",
       "      <th>x0_group E</th>\n",
       "      <th>x0_associate's degree</th>\n",
       "      <th>x0_bachelor's degree</th>\n",
       "      <th>x0_high school</th>\n",
       "      <th>x0_master's degree</th>\n",
       "      <th>x0_some college</th>\n",
       "      <th>x0_some high school</th>\n",
       "    </tr>\n",
       "  </thead>\n",
       "  <tbody>\n",
       "    <tr>\n",
       "      <th>0</th>\n",
       "      <td>female</td>\n",
       "      <td>group B</td>\n",
       "      <td>bachelor's degree</td>\n",
       "      <td>standard</td>\n",
       "      <td>none</td>\n",
       "      <td>72</td>\n",
       "      <td>72</td>\n",
       "      <td>74</td>\n",
       "      <td>0</td>\n",
       "      <td>1</td>\n",
       "      <td>...</td>\n",
       "      <td>1.0</td>\n",
       "      <td>0.0</td>\n",
       "      <td>0.0</td>\n",
       "      <td>0.0</td>\n",
       "      <td>0.0</td>\n",
       "      <td>1.0</td>\n",
       "      <td>0.0</td>\n",
       "      <td>0.0</td>\n",
       "      <td>0.0</td>\n",
       "      <td>0.0</td>\n",
       "    </tr>\n",
       "    <tr>\n",
       "      <th>1</th>\n",
       "      <td>female</td>\n",
       "      <td>group C</td>\n",
       "      <td>some college</td>\n",
       "      <td>standard</td>\n",
       "      <td>completed</td>\n",
       "      <td>69</td>\n",
       "      <td>90</td>\n",
       "      <td>88</td>\n",
       "      <td>0</td>\n",
       "      <td>0</td>\n",
       "      <td>...</td>\n",
       "      <td>0.0</td>\n",
       "      <td>1.0</td>\n",
       "      <td>0.0</td>\n",
       "      <td>0.0</td>\n",
       "      <td>0.0</td>\n",
       "      <td>0.0</td>\n",
       "      <td>0.0</td>\n",
       "      <td>0.0</td>\n",
       "      <td>1.0</td>\n",
       "      <td>0.0</td>\n",
       "    </tr>\n",
       "    <tr>\n",
       "      <th>2</th>\n",
       "      <td>female</td>\n",
       "      <td>group B</td>\n",
       "      <td>master's degree</td>\n",
       "      <td>standard</td>\n",
       "      <td>none</td>\n",
       "      <td>90</td>\n",
       "      <td>95</td>\n",
       "      <td>93</td>\n",
       "      <td>0</td>\n",
       "      <td>1</td>\n",
       "      <td>...</td>\n",
       "      <td>1.0</td>\n",
       "      <td>0.0</td>\n",
       "      <td>0.0</td>\n",
       "      <td>0.0</td>\n",
       "      <td>0.0</td>\n",
       "      <td>0.0</td>\n",
       "      <td>0.0</td>\n",
       "      <td>1.0</td>\n",
       "      <td>0.0</td>\n",
       "      <td>0.0</td>\n",
       "    </tr>\n",
       "    <tr>\n",
       "      <th>3</th>\n",
       "      <td>male</td>\n",
       "      <td>group A</td>\n",
       "      <td>associate's degree</td>\n",
       "      <td>free/reduced</td>\n",
       "      <td>none</td>\n",
       "      <td>47</td>\n",
       "      <td>57</td>\n",
       "      <td>44</td>\n",
       "      <td>1</td>\n",
       "      <td>1</td>\n",
       "      <td>...</td>\n",
       "      <td>0.0</td>\n",
       "      <td>0.0</td>\n",
       "      <td>0.0</td>\n",
       "      <td>0.0</td>\n",
       "      <td>1.0</td>\n",
       "      <td>0.0</td>\n",
       "      <td>0.0</td>\n",
       "      <td>0.0</td>\n",
       "      <td>0.0</td>\n",
       "      <td>0.0</td>\n",
       "    </tr>\n",
       "    <tr>\n",
       "      <th>4</th>\n",
       "      <td>male</td>\n",
       "      <td>group C</td>\n",
       "      <td>some college</td>\n",
       "      <td>standard</td>\n",
       "      <td>none</td>\n",
       "      <td>76</td>\n",
       "      <td>78</td>\n",
       "      <td>75</td>\n",
       "      <td>1</td>\n",
       "      <td>1</td>\n",
       "      <td>...</td>\n",
       "      <td>0.0</td>\n",
       "      <td>1.0</td>\n",
       "      <td>0.0</td>\n",
       "      <td>0.0</td>\n",
       "      <td>0.0</td>\n",
       "      <td>0.0</td>\n",
       "      <td>0.0</td>\n",
       "      <td>0.0</td>\n",
       "      <td>1.0</td>\n",
       "      <td>0.0</td>\n",
       "    </tr>\n",
       "  </tbody>\n",
       "</table>\n",
       "<p>5 rows × 21 columns</p>\n",
       "</div>"
      ],
      "text/plain": [
       "   gender race/ethnicity parental level of education         lunch  \\\n",
       "0  female        group B           bachelor's degree      standard   \n",
       "1  female        group C                some college      standard   \n",
       "2  female        group B             master's degree      standard   \n",
       "3    male        group A          associate's degree  free/reduced   \n",
       "4    male        group C                some college      standard   \n",
       "\n",
       "  test preparation course  math score  reading score  writing score  \\\n",
       "0                    none          72             72             74   \n",
       "1               completed          69             90             88   \n",
       "2                    none          90             95             93   \n",
       "3                    none          47             57             44   \n",
       "4                    none          76             78             75   \n",
       "\n",
       "   gender_lab  tpc_lab  ...  x0_group B  x0_group C  x0_group D  x0_group E  \\\n",
       "0           0        1  ...         1.0         0.0         0.0         0.0   \n",
       "1           0        0  ...         0.0         1.0         0.0         0.0   \n",
       "2           0        1  ...         1.0         0.0         0.0         0.0   \n",
       "3           1        1  ...         0.0         0.0         0.0         0.0   \n",
       "4           1        1  ...         0.0         1.0         0.0         0.0   \n",
       "\n",
       "   x0_associate's degree  x0_bachelor's degree  x0_high school  \\\n",
       "0                    0.0                   1.0             0.0   \n",
       "1                    0.0                   0.0             0.0   \n",
       "2                    0.0                   0.0             0.0   \n",
       "3                    1.0                   0.0             0.0   \n",
       "4                    0.0                   0.0             0.0   \n",
       "\n",
       "   x0_master's degree  x0_some college  x0_some high school  \n",
       "0                 0.0              0.0                  0.0  \n",
       "1                 0.0              1.0                  0.0  \n",
       "2                 1.0              0.0                  0.0  \n",
       "3                 0.0              0.0                  0.0  \n",
       "4                 0.0              1.0                  0.0  \n",
       "\n",
       "[5 rows x 21 columns]"
      ]
     },
     "execution_count": 19,
     "metadata": {},
     "output_type": "execute_result"
    }
   ],
   "source": [
    "df_train = pd.concat([df2, df_enc, df_enc1], axis=1)\n",
    "df_train.head()"
   ]
  },
  {
   "cell_type": "code",
   "execution_count": 20,
   "metadata": {},
   "outputs": [
    {
     "data": {
      "text/plain": [
       "(1000, 21)"
      ]
     },
     "execution_count": 20,
     "metadata": {},
     "output_type": "execute_result"
    }
   ],
   "source": [
    "df_train.shape"
   ]
  },
  {
   "cell_type": "code",
   "execution_count": 21,
   "metadata": {},
   "outputs": [
    {
     "data": {
      "text/plain": [
       "gender                         0\n",
       "race/ethnicity                 0\n",
       "parental level of education    0\n",
       "lunch                          0\n",
       "test preparation course        0\n",
       "math score                     0\n",
       "reading score                  0\n",
       "writing score                  0\n",
       "gender_lab                     0\n",
       "tpc_lab                        0\n",
       "x0_group A                     0\n",
       "x0_group B                     0\n",
       "x0_group C                     0\n",
       "x0_group D                     0\n",
       "x0_group E                     0\n",
       "x0_associate's degree          0\n",
       "x0_bachelor's degree           0\n",
       "x0_high school                 0\n",
       "x0_master's degree             0\n",
       "x0_some college                0\n",
       "x0_some high school            0\n",
       "dtype: int64"
      ]
     },
     "execution_count": 21,
     "metadata": {},
     "output_type": "execute_result"
    }
   ],
   "source": [
    "df_train.isnull().sum()"
   ]
  },
  {
   "cell_type": "code",
   "execution_count": 22,
   "metadata": {},
   "outputs": [
    {
     "data": {
      "text/html": [
       "<div>\n",
       "<style scoped>\n",
       "    .dataframe tbody tr th:only-of-type {\n",
       "        vertical-align: middle;\n",
       "    }\n",
       "\n",
       "    .dataframe tbody tr th {\n",
       "        vertical-align: top;\n",
       "    }\n",
       "\n",
       "    .dataframe thead th {\n",
       "        text-align: right;\n",
       "    }\n",
       "</style>\n",
       "<table border=\"1\" class=\"dataframe\">\n",
       "  <thead>\n",
       "    <tr style=\"text-align: right;\">\n",
       "      <th></th>\n",
       "      <th>math score</th>\n",
       "      <th>reading score</th>\n",
       "      <th>writing score</th>\n",
       "      <th>gender_lab</th>\n",
       "      <th>tpc_lab</th>\n",
       "      <th>x0_group A</th>\n",
       "      <th>x0_group B</th>\n",
       "      <th>x0_group C</th>\n",
       "      <th>x0_group D</th>\n",
       "      <th>x0_group E</th>\n",
       "      <th>x0_associate's degree</th>\n",
       "      <th>x0_bachelor's degree</th>\n",
       "      <th>x0_high school</th>\n",
       "      <th>x0_master's degree</th>\n",
       "      <th>x0_some college</th>\n",
       "      <th>x0_some high school</th>\n",
       "    </tr>\n",
       "  </thead>\n",
       "  <tbody>\n",
       "    <tr>\n",
       "      <th>0</th>\n",
       "      <td>72</td>\n",
       "      <td>72</td>\n",
       "      <td>74</td>\n",
       "      <td>0</td>\n",
       "      <td>1</td>\n",
       "      <td>0.0</td>\n",
       "      <td>1.0</td>\n",
       "      <td>0.0</td>\n",
       "      <td>0.0</td>\n",
       "      <td>0.0</td>\n",
       "      <td>0.0</td>\n",
       "      <td>1.0</td>\n",
       "      <td>0.0</td>\n",
       "      <td>0.0</td>\n",
       "      <td>0.0</td>\n",
       "      <td>0.0</td>\n",
       "    </tr>\n",
       "    <tr>\n",
       "      <th>1</th>\n",
       "      <td>69</td>\n",
       "      <td>90</td>\n",
       "      <td>88</td>\n",
       "      <td>0</td>\n",
       "      <td>0</td>\n",
       "      <td>0.0</td>\n",
       "      <td>0.0</td>\n",
       "      <td>1.0</td>\n",
       "      <td>0.0</td>\n",
       "      <td>0.0</td>\n",
       "      <td>0.0</td>\n",
       "      <td>0.0</td>\n",
       "      <td>0.0</td>\n",
       "      <td>0.0</td>\n",
       "      <td>1.0</td>\n",
       "      <td>0.0</td>\n",
       "    </tr>\n",
       "    <tr>\n",
       "      <th>2</th>\n",
       "      <td>90</td>\n",
       "      <td>95</td>\n",
       "      <td>93</td>\n",
       "      <td>0</td>\n",
       "      <td>1</td>\n",
       "      <td>0.0</td>\n",
       "      <td>1.0</td>\n",
       "      <td>0.0</td>\n",
       "      <td>0.0</td>\n",
       "      <td>0.0</td>\n",
       "      <td>0.0</td>\n",
       "      <td>0.0</td>\n",
       "      <td>0.0</td>\n",
       "      <td>1.0</td>\n",
       "      <td>0.0</td>\n",
       "      <td>0.0</td>\n",
       "    </tr>\n",
       "    <tr>\n",
       "      <th>3</th>\n",
       "      <td>47</td>\n",
       "      <td>57</td>\n",
       "      <td>44</td>\n",
       "      <td>1</td>\n",
       "      <td>1</td>\n",
       "      <td>1.0</td>\n",
       "      <td>0.0</td>\n",
       "      <td>0.0</td>\n",
       "      <td>0.0</td>\n",
       "      <td>0.0</td>\n",
       "      <td>1.0</td>\n",
       "      <td>0.0</td>\n",
       "      <td>0.0</td>\n",
       "      <td>0.0</td>\n",
       "      <td>0.0</td>\n",
       "      <td>0.0</td>\n",
       "    </tr>\n",
       "    <tr>\n",
       "      <th>4</th>\n",
       "      <td>76</td>\n",
       "      <td>78</td>\n",
       "      <td>75</td>\n",
       "      <td>1</td>\n",
       "      <td>1</td>\n",
       "      <td>0.0</td>\n",
       "      <td>0.0</td>\n",
       "      <td>1.0</td>\n",
       "      <td>0.0</td>\n",
       "      <td>0.0</td>\n",
       "      <td>0.0</td>\n",
       "      <td>0.0</td>\n",
       "      <td>0.0</td>\n",
       "      <td>0.0</td>\n",
       "      <td>1.0</td>\n",
       "      <td>0.0</td>\n",
       "    </tr>\n",
       "    <tr>\n",
       "      <th>...</th>\n",
       "      <td>...</td>\n",
       "      <td>...</td>\n",
       "      <td>...</td>\n",
       "      <td>...</td>\n",
       "      <td>...</td>\n",
       "      <td>...</td>\n",
       "      <td>...</td>\n",
       "      <td>...</td>\n",
       "      <td>...</td>\n",
       "      <td>...</td>\n",
       "      <td>...</td>\n",
       "      <td>...</td>\n",
       "      <td>...</td>\n",
       "      <td>...</td>\n",
       "      <td>...</td>\n",
       "      <td>...</td>\n",
       "    </tr>\n",
       "    <tr>\n",
       "      <th>995</th>\n",
       "      <td>88</td>\n",
       "      <td>99</td>\n",
       "      <td>95</td>\n",
       "      <td>0</td>\n",
       "      <td>0</td>\n",
       "      <td>0.0</td>\n",
       "      <td>0.0</td>\n",
       "      <td>0.0</td>\n",
       "      <td>0.0</td>\n",
       "      <td>1.0</td>\n",
       "      <td>0.0</td>\n",
       "      <td>0.0</td>\n",
       "      <td>0.0</td>\n",
       "      <td>1.0</td>\n",
       "      <td>0.0</td>\n",
       "      <td>0.0</td>\n",
       "    </tr>\n",
       "    <tr>\n",
       "      <th>996</th>\n",
       "      <td>62</td>\n",
       "      <td>55</td>\n",
       "      <td>55</td>\n",
       "      <td>1</td>\n",
       "      <td>1</td>\n",
       "      <td>0.0</td>\n",
       "      <td>0.0</td>\n",
       "      <td>1.0</td>\n",
       "      <td>0.0</td>\n",
       "      <td>0.0</td>\n",
       "      <td>0.0</td>\n",
       "      <td>0.0</td>\n",
       "      <td>1.0</td>\n",
       "      <td>0.0</td>\n",
       "      <td>0.0</td>\n",
       "      <td>0.0</td>\n",
       "    </tr>\n",
       "    <tr>\n",
       "      <th>997</th>\n",
       "      <td>59</td>\n",
       "      <td>71</td>\n",
       "      <td>65</td>\n",
       "      <td>0</td>\n",
       "      <td>0</td>\n",
       "      <td>0.0</td>\n",
       "      <td>0.0</td>\n",
       "      <td>1.0</td>\n",
       "      <td>0.0</td>\n",
       "      <td>0.0</td>\n",
       "      <td>0.0</td>\n",
       "      <td>0.0</td>\n",
       "      <td>1.0</td>\n",
       "      <td>0.0</td>\n",
       "      <td>0.0</td>\n",
       "      <td>0.0</td>\n",
       "    </tr>\n",
       "    <tr>\n",
       "      <th>998</th>\n",
       "      <td>68</td>\n",
       "      <td>78</td>\n",
       "      <td>77</td>\n",
       "      <td>0</td>\n",
       "      <td>0</td>\n",
       "      <td>0.0</td>\n",
       "      <td>0.0</td>\n",
       "      <td>0.0</td>\n",
       "      <td>1.0</td>\n",
       "      <td>0.0</td>\n",
       "      <td>0.0</td>\n",
       "      <td>0.0</td>\n",
       "      <td>0.0</td>\n",
       "      <td>0.0</td>\n",
       "      <td>1.0</td>\n",
       "      <td>0.0</td>\n",
       "    </tr>\n",
       "    <tr>\n",
       "      <th>999</th>\n",
       "      <td>77</td>\n",
       "      <td>86</td>\n",
       "      <td>86</td>\n",
       "      <td>0</td>\n",
       "      <td>1</td>\n",
       "      <td>0.0</td>\n",
       "      <td>0.0</td>\n",
       "      <td>0.0</td>\n",
       "      <td>1.0</td>\n",
       "      <td>0.0</td>\n",
       "      <td>0.0</td>\n",
       "      <td>0.0</td>\n",
       "      <td>0.0</td>\n",
       "      <td>0.0</td>\n",
       "      <td>1.0</td>\n",
       "      <td>0.0</td>\n",
       "    </tr>\n",
       "  </tbody>\n",
       "</table>\n",
       "<p>1000 rows × 16 columns</p>\n",
       "</div>"
      ],
      "text/plain": [
       "     math score  reading score  writing score  gender_lab  tpc_lab  \\\n",
       "0            72             72             74           0        1   \n",
       "1            69             90             88           0        0   \n",
       "2            90             95             93           0        1   \n",
       "3            47             57             44           1        1   \n",
       "4            76             78             75           1        1   \n",
       "..          ...            ...            ...         ...      ...   \n",
       "995          88             99             95           0        0   \n",
       "996          62             55             55           1        1   \n",
       "997          59             71             65           0        0   \n",
       "998          68             78             77           0        0   \n",
       "999          77             86             86           0        1   \n",
       "\n",
       "     x0_group A  x0_group B  x0_group C  x0_group D  x0_group E  \\\n",
       "0           0.0         1.0         0.0         0.0         0.0   \n",
       "1           0.0         0.0         1.0         0.0         0.0   \n",
       "2           0.0         1.0         0.0         0.0         0.0   \n",
       "3           1.0         0.0         0.0         0.0         0.0   \n",
       "4           0.0         0.0         1.0         0.0         0.0   \n",
       "..          ...         ...         ...         ...         ...   \n",
       "995         0.0         0.0         0.0         0.0         1.0   \n",
       "996         0.0         0.0         1.0         0.0         0.0   \n",
       "997         0.0         0.0         1.0         0.0         0.0   \n",
       "998         0.0         0.0         0.0         1.0         0.0   \n",
       "999         0.0         0.0         0.0         1.0         0.0   \n",
       "\n",
       "     x0_associate's degree  x0_bachelor's degree  x0_high school  \\\n",
       "0                      0.0                   1.0             0.0   \n",
       "1                      0.0                   0.0             0.0   \n",
       "2                      0.0                   0.0             0.0   \n",
       "3                      1.0                   0.0             0.0   \n",
       "4                      0.0                   0.0             0.0   \n",
       "..                     ...                   ...             ...   \n",
       "995                    0.0                   0.0             0.0   \n",
       "996                    0.0                   0.0             1.0   \n",
       "997                    0.0                   0.0             1.0   \n",
       "998                    0.0                   0.0             0.0   \n",
       "999                    0.0                   0.0             0.0   \n",
       "\n",
       "     x0_master's degree  x0_some college  x0_some high school  \n",
       "0                   0.0              0.0                  0.0  \n",
       "1                   0.0              1.0                  0.0  \n",
       "2                   1.0              0.0                  0.0  \n",
       "3                   0.0              0.0                  0.0  \n",
       "4                   0.0              1.0                  0.0  \n",
       "..                  ...              ...                  ...  \n",
       "995                 1.0              0.0                  0.0  \n",
       "996                 0.0              0.0                  0.0  \n",
       "997                 0.0              0.0                  0.0  \n",
       "998                 0.0              1.0                  0.0  \n",
       "999                 0.0              1.0                  0.0  \n",
       "\n",
       "[1000 rows x 16 columns]"
      ]
     },
     "execution_count": 22,
     "metadata": {},
     "output_type": "execute_result"
    }
   ],
   "source": [
    "df_train.drop(['lunch', 'parental level of education', 'test preparation course', 'race/ethnicity','gender'], axis=1)"
   ]
  },
  {
   "cell_type": "code",
   "execution_count": 23,
   "metadata": {},
   "outputs": [
    {
     "data": {
      "text/html": [
       "<div>\n",
       "<style scoped>\n",
       "    .dataframe tbody tr th:only-of-type {\n",
       "        vertical-align: middle;\n",
       "    }\n",
       "\n",
       "    .dataframe tbody tr th {\n",
       "        vertical-align: top;\n",
       "    }\n",
       "\n",
       "    .dataframe thead th {\n",
       "        text-align: right;\n",
       "    }\n",
       "</style>\n",
       "<table border=\"1\" class=\"dataframe\">\n",
       "  <thead>\n",
       "    <tr style=\"text-align: right;\">\n",
       "      <th></th>\n",
       "      <th>reading score</th>\n",
       "      <th>writing score</th>\n",
       "      <th>gender_lab</th>\n",
       "      <th>tpc_lab</th>\n",
       "      <th>x0_group A</th>\n",
       "      <th>x0_group B</th>\n",
       "      <th>x0_group C</th>\n",
       "      <th>x0_group D</th>\n",
       "      <th>x0_group E</th>\n",
       "      <th>x0_associate's degree</th>\n",
       "      <th>x0_bachelor's degree</th>\n",
       "      <th>x0_high school</th>\n",
       "      <th>x0_master's degree</th>\n",
       "      <th>x0_some college</th>\n",
       "      <th>x0_some high school</th>\n",
       "    </tr>\n",
       "  </thead>\n",
       "  <tbody>\n",
       "    <tr>\n",
       "      <th>0</th>\n",
       "      <td>72</td>\n",
       "      <td>74</td>\n",
       "      <td>0</td>\n",
       "      <td>1</td>\n",
       "      <td>0.0</td>\n",
       "      <td>1.0</td>\n",
       "      <td>0.0</td>\n",
       "      <td>0.0</td>\n",
       "      <td>0.0</td>\n",
       "      <td>0.0</td>\n",
       "      <td>1.0</td>\n",
       "      <td>0.0</td>\n",
       "      <td>0.0</td>\n",
       "      <td>0.0</td>\n",
       "      <td>0.0</td>\n",
       "    </tr>\n",
       "    <tr>\n",
       "      <th>1</th>\n",
       "      <td>90</td>\n",
       "      <td>88</td>\n",
       "      <td>0</td>\n",
       "      <td>0</td>\n",
       "      <td>0.0</td>\n",
       "      <td>0.0</td>\n",
       "      <td>1.0</td>\n",
       "      <td>0.0</td>\n",
       "      <td>0.0</td>\n",
       "      <td>0.0</td>\n",
       "      <td>0.0</td>\n",
       "      <td>0.0</td>\n",
       "      <td>0.0</td>\n",
       "      <td>1.0</td>\n",
       "      <td>0.0</td>\n",
       "    </tr>\n",
       "    <tr>\n",
       "      <th>2</th>\n",
       "      <td>95</td>\n",
       "      <td>93</td>\n",
       "      <td>0</td>\n",
       "      <td>1</td>\n",
       "      <td>0.0</td>\n",
       "      <td>1.0</td>\n",
       "      <td>0.0</td>\n",
       "      <td>0.0</td>\n",
       "      <td>0.0</td>\n",
       "      <td>0.0</td>\n",
       "      <td>0.0</td>\n",
       "      <td>0.0</td>\n",
       "      <td>1.0</td>\n",
       "      <td>0.0</td>\n",
       "      <td>0.0</td>\n",
       "    </tr>\n",
       "    <tr>\n",
       "      <th>3</th>\n",
       "      <td>57</td>\n",
       "      <td>44</td>\n",
       "      <td>1</td>\n",
       "      <td>1</td>\n",
       "      <td>1.0</td>\n",
       "      <td>0.0</td>\n",
       "      <td>0.0</td>\n",
       "      <td>0.0</td>\n",
       "      <td>0.0</td>\n",
       "      <td>1.0</td>\n",
       "      <td>0.0</td>\n",
       "      <td>0.0</td>\n",
       "      <td>0.0</td>\n",
       "      <td>0.0</td>\n",
       "      <td>0.0</td>\n",
       "    </tr>\n",
       "    <tr>\n",
       "      <th>4</th>\n",
       "      <td>78</td>\n",
       "      <td>75</td>\n",
       "      <td>1</td>\n",
       "      <td>1</td>\n",
       "      <td>0.0</td>\n",
       "      <td>0.0</td>\n",
       "      <td>1.0</td>\n",
       "      <td>0.0</td>\n",
       "      <td>0.0</td>\n",
       "      <td>0.0</td>\n",
       "      <td>0.0</td>\n",
       "      <td>0.0</td>\n",
       "      <td>0.0</td>\n",
       "      <td>1.0</td>\n",
       "      <td>0.0</td>\n",
       "    </tr>\n",
       "  </tbody>\n",
       "</table>\n",
       "</div>"
      ],
      "text/plain": [
       "   reading score  writing score  gender_lab  tpc_lab  x0_group A  x0_group B  \\\n",
       "0             72             74           0        1         0.0         1.0   \n",
       "1             90             88           0        0         0.0         0.0   \n",
       "2             95             93           0        1         0.0         1.0   \n",
       "3             57             44           1        1         1.0         0.0   \n",
       "4             78             75           1        1         0.0         0.0   \n",
       "\n",
       "   x0_group C  x0_group D  x0_group E  x0_associate's degree  \\\n",
       "0         0.0         0.0         0.0                    0.0   \n",
       "1         1.0         0.0         0.0                    0.0   \n",
       "2         0.0         0.0         0.0                    0.0   \n",
       "3         0.0         0.0         0.0                    1.0   \n",
       "4         1.0         0.0         0.0                    0.0   \n",
       "\n",
       "   x0_bachelor's degree  x0_high school  x0_master's degree  x0_some college  \\\n",
       "0                   1.0             0.0                 0.0              0.0   \n",
       "1                   0.0             0.0                 0.0              1.0   \n",
       "2                   0.0             0.0                 1.0              0.0   \n",
       "3                   0.0             0.0                 0.0              0.0   \n",
       "4                   0.0             0.0                 0.0              1.0   \n",
       "\n",
       "   x0_some high school  \n",
       "0                  0.0  \n",
       "1                  0.0  \n",
       "2                  0.0  \n",
       "3                  0.0  \n",
       "4                  0.0  "
      ]
     },
     "metadata": {},
     "output_type": "display_data"
    },
    {
     "data": {
      "text/plain": [
       "0      72\n",
       "1      69\n",
       "2      90\n",
       "3      47\n",
       "4      76\n",
       "       ..\n",
       "995    88\n",
       "996    62\n",
       "997    59\n",
       "998    68\n",
       "999    77\n",
       "Name: math score, Length: 1000, dtype: int64"
      ]
     },
     "metadata": {},
     "output_type": "display_data"
    }
   ],
   "source": [
    "X = df_train.drop(['lunch', 'parental level of education', 'test preparation course', 'race/ethnicity','gender', 'math score'], axis = 1)\n",
    "y = df_train['math score']\n",
    "display(X.head(5))\n",
    "display(y)"
   ]
  },
  {
   "cell_type": "code",
   "execution_count": 24,
   "metadata": {},
   "outputs": [],
   "source": [
    "# Split independent and target variable on train and test dataset\n",
    "from sklearn.model_selection import train_test_split\n",
    "X_train, X_test, y_train, y_test =  train_test_split(X, y, test_size=0.2, random_state=0)"
   ]
  },
  {
   "cell_type": "code",
   "execution_count": 25,
   "metadata": {},
   "outputs": [
    {
     "name": "stdout",
     "output_type": "stream",
     "text": [
      "X_train shape: (800, 15)\n",
      "y_train shape: (800,)\n",
      "X_test shape: (200, 15)\n",
      "y_test shape: (200,)\n"
     ]
    }
   ],
   "source": [
    "print(f\"X_train shape: {X_train.shape}\")\n",
    "print(f\"y_train shape: {y_train.shape}\")\n",
    "print(f\"X_test shape: {X_test.shape}\")\n",
    "print(f\"y_test shape: {y_test.shape}\")"
   ]
  },
  {
   "cell_type": "code",
   "execution_count": 26,
   "metadata": {},
   "outputs": [],
   "source": [
    "# First we will try to normalize data and than we will observe the distribution of data\n",
    "from sklearn.preprocessing import MinMaxScaler\n",
    "\n",
    "# fit scaler on training data\n",
    "norm = MinMaxScaler()\n",
    "\n",
    "# transform training data\n",
    "X_train_norm = norm.fit_transform(X_train)\n",
    "\n",
    "# transform testing dataabs\n",
    "X_test_norm = norm.transform(X_test)"
   ]
  },
  {
   "cell_type": "code",
   "execution_count": 27,
   "metadata": {},
   "outputs": [
    {
     "data": {
      "text/html": [
       "<div>\n",
       "<style scoped>\n",
       "    .dataframe tbody tr th:only-of-type {\n",
       "        vertical-align: middle;\n",
       "    }\n",
       "\n",
       "    .dataframe tbody tr th {\n",
       "        vertical-align: top;\n",
       "    }\n",
       "\n",
       "    .dataframe thead th {\n",
       "        text-align: right;\n",
       "    }\n",
       "</style>\n",
       "<table border=\"1\" class=\"dataframe\">\n",
       "  <thead>\n",
       "    <tr style=\"text-align: right;\">\n",
       "      <th></th>\n",
       "      <th>reading score</th>\n",
       "      <th>writing score</th>\n",
       "      <th>gender_lab</th>\n",
       "      <th>tpc_lab</th>\n",
       "      <th>x0_group A</th>\n",
       "      <th>x0_group B</th>\n",
       "      <th>x0_group C</th>\n",
       "      <th>x0_group D</th>\n",
       "      <th>x0_group E</th>\n",
       "      <th>x0_associate's degree</th>\n",
       "      <th>x0_bachelor's degree</th>\n",
       "      <th>x0_high school</th>\n",
       "      <th>x0_master's degree</th>\n",
       "      <th>x0_some college</th>\n",
       "      <th>x0_some high school</th>\n",
       "    </tr>\n",
       "  </thead>\n",
       "  <tbody>\n",
       "    <tr>\n",
       "      <th>0</th>\n",
       "      <td>0.734940</td>\n",
       "      <td>0.700000</td>\n",
       "      <td>1.0</td>\n",
       "      <td>1.0</td>\n",
       "      <td>0.0</td>\n",
       "      <td>0.0</td>\n",
       "      <td>0.0</td>\n",
       "      <td>1.0</td>\n",
       "      <td>0.0</td>\n",
       "      <td>1.0</td>\n",
       "      <td>0.0</td>\n",
       "      <td>0.0</td>\n",
       "      <td>0.0</td>\n",
       "      <td>0.0</td>\n",
       "      <td>0.0</td>\n",
       "    </tr>\n",
       "    <tr>\n",
       "      <th>1</th>\n",
       "      <td>0.746988</td>\n",
       "      <td>0.800000</td>\n",
       "      <td>0.0</td>\n",
       "      <td>1.0</td>\n",
       "      <td>0.0</td>\n",
       "      <td>0.0</td>\n",
       "      <td>0.0</td>\n",
       "      <td>1.0</td>\n",
       "      <td>0.0</td>\n",
       "      <td>0.0</td>\n",
       "      <td>0.0</td>\n",
       "      <td>0.0</td>\n",
       "      <td>1.0</td>\n",
       "      <td>0.0</td>\n",
       "      <td>0.0</td>\n",
       "    </tr>\n",
       "    <tr>\n",
       "      <th>2</th>\n",
       "      <td>0.469880</td>\n",
       "      <td>0.477778</td>\n",
       "      <td>1.0</td>\n",
       "      <td>0.0</td>\n",
       "      <td>0.0</td>\n",
       "      <td>0.0</td>\n",
       "      <td>0.0</td>\n",
       "      <td>0.0</td>\n",
       "      <td>1.0</td>\n",
       "      <td>1.0</td>\n",
       "      <td>0.0</td>\n",
       "      <td>0.0</td>\n",
       "      <td>0.0</td>\n",
       "      <td>0.0</td>\n",
       "      <td>0.0</td>\n",
       "    </tr>\n",
       "  </tbody>\n",
       "</table>\n",
       "</div>"
      ],
      "text/plain": [
       "   reading score  writing score  gender_lab  tpc_lab  x0_group A  x0_group B  \\\n",
       "0       0.734940       0.700000         1.0      1.0         0.0         0.0   \n",
       "1       0.746988       0.800000         0.0      1.0         0.0         0.0   \n",
       "2       0.469880       0.477778         1.0      0.0         0.0         0.0   \n",
       "\n",
       "   x0_group C  x0_group D  x0_group E  x0_associate's degree  \\\n",
       "0         0.0         1.0         0.0                    1.0   \n",
       "1         0.0         1.0         0.0                    0.0   \n",
       "2         0.0         0.0         1.0                    1.0   \n",
       "\n",
       "   x0_bachelor's degree  x0_high school  x0_master's degree  x0_some college  \\\n",
       "0                   0.0             0.0                 0.0              0.0   \n",
       "1                   0.0             0.0                 1.0              0.0   \n",
       "2                   0.0             0.0                 0.0              0.0   \n",
       "\n",
       "   x0_some high school  \n",
       "0                  0.0  \n",
       "1                  0.0  \n",
       "2                  0.0  "
      ]
     },
     "execution_count": 27,
     "metadata": {},
     "output_type": "execute_result"
    }
   ],
   "source": [
    "# transform testing dataabs\n",
    "X_test_norm = norm.transform(X_test)\n",
    "col_names = list(X.columns)\n",
    "df_norm = pd.DataFrame(data = X_train_norm, columns = col_names)\n",
    "df_norm.head(3)"
   ]
  },
  {
   "cell_type": "code",
   "execution_count": 28,
   "metadata": {},
   "outputs": [
    {
     "data": {
      "image/png": "[encoded data removed]",
      "text/plain": [
       "<Figure size 1440x1080 with 16 Axes>"
      ]
     },
     "metadata": {
      "needs_background": "light"
     },
     "output_type": "display_data"
    }
   ],
   "source": [
    "# Visualize normalized data\n",
    "df_norm.hist(bins=50, figsize=(20,15))\n",
    "plt.show()"
   ]
  },
  {
   "cell_type": "code",
   "execution_count": 29,
   "metadata": {},
   "outputs": [
    {
     "data": {
      "text/html": [
       "<div>\n",
       "<style scoped>\n",
       "    .dataframe tbody tr th:only-of-type {\n",
       "        vertical-align: middle;\n",
       "    }\n",
       "\n",
       "    .dataframe tbody tr th {\n",
       "        vertical-align: top;\n",
       "    }\n",
       "\n",
       "    .dataframe thead th {\n",
       "        text-align: right;\n",
       "    }\n",
       "</style>\n",
       "<table border=\"1\" class=\"dataframe\">\n",
       "  <thead>\n",
       "    <tr style=\"text-align: right;\">\n",
       "      <th></th>\n",
       "      <th>reading score</th>\n",
       "      <th>writing score</th>\n",
       "      <th>gender_lab</th>\n",
       "      <th>tpc_lab</th>\n",
       "      <th>x0_group A</th>\n",
       "      <th>x0_group B</th>\n",
       "      <th>x0_group C</th>\n",
       "      <th>x0_group D</th>\n",
       "      <th>x0_group E</th>\n",
       "      <th>x0_associate's degree</th>\n",
       "      <th>x0_bachelor's degree</th>\n",
       "      <th>x0_high school</th>\n",
       "      <th>x0_master's degree</th>\n",
       "      <th>x0_some college</th>\n",
       "      <th>x0_some high school</th>\n",
       "    </tr>\n",
       "  </thead>\n",
       "  <tbody>\n",
       "    <tr>\n",
       "      <th>0</th>\n",
       "      <td>0.591958</td>\n",
       "      <td>0.313452</td>\n",
       "      <td>1.048684</td>\n",
       "      <td>0.750000</td>\n",
       "      <td>-0.314485</td>\n",
       "      <td>-0.488252</td>\n",
       "      <td>-0.682057</td>\n",
       "      <td>1.703655</td>\n",
       "      <td>-0.409736</td>\n",
       "      <td>1.876106</td>\n",
       "      <td>-0.358259</td>\n",
       "      <td>-0.478413</td>\n",
       "      <td>-0.258199</td>\n",
       "      <td>-0.540747</td>\n",
       "      <td>-0.484322</td>\n",
       "    </tr>\n",
       "    <tr>\n",
       "      <th>1</th>\n",
       "      <td>0.660771</td>\n",
       "      <td>0.905803</td>\n",
       "      <td>-0.953576</td>\n",
       "      <td>0.750000</td>\n",
       "      <td>-0.314485</td>\n",
       "      <td>-0.488252</td>\n",
       "      <td>-0.682057</td>\n",
       "      <td>1.703655</td>\n",
       "      <td>-0.409736</td>\n",
       "      <td>-0.533019</td>\n",
       "      <td>-0.358259</td>\n",
       "      <td>-0.478413</td>\n",
       "      <td>3.872983</td>\n",
       "      <td>-0.540747</td>\n",
       "      <td>-0.484322</td>\n",
       "    </tr>\n",
       "    <tr>\n",
       "      <th>2</th>\n",
       "      <td>-0.921914</td>\n",
       "      <td>-1.002883</td>\n",
       "      <td>1.048684</td>\n",
       "      <td>-1.333333</td>\n",
       "      <td>-0.314485</td>\n",
       "      <td>-0.488252</td>\n",
       "      <td>-0.682057</td>\n",
       "      <td>-0.586973</td>\n",
       "      <td>2.440599</td>\n",
       "      <td>1.876106</td>\n",
       "      <td>-0.358259</td>\n",
       "      <td>-0.478413</td>\n",
       "      <td>-0.258199</td>\n",
       "      <td>-0.540747</td>\n",
       "      <td>-0.484322</td>\n",
       "    </tr>\n",
       "  </tbody>\n",
       "</table>\n",
       "</div>"
      ],
      "text/plain": [
       "   reading score  writing score  gender_lab   tpc_lab  x0_group A  x0_group B  \\\n",
       "0       0.591958       0.313452    1.048684  0.750000   -0.314485   -0.488252   \n",
       "1       0.660771       0.905803   -0.953576  0.750000   -0.314485   -0.488252   \n",
       "2      -0.921914      -1.002883    1.048684 -1.333333   -0.314485   -0.488252   \n",
       "\n",
       "   x0_group C  x0_group D  x0_group E  x0_associate's degree  \\\n",
       "0   -0.682057    1.703655   -0.409736               1.876106   \n",
       "1   -0.682057    1.703655   -0.409736              -0.533019   \n",
       "2   -0.682057   -0.586973    2.440599               1.876106   \n",
       "\n",
       "   x0_bachelor's degree  x0_high school  x0_master's degree  x0_some college  \\\n",
       "0             -0.358259       -0.478413           -0.258199        -0.540747   \n",
       "1             -0.358259       -0.478413            3.872983        -0.540747   \n",
       "2             -0.358259       -0.478413           -0.258199        -0.540747   \n",
       "\n",
       "   x0_some high school  \n",
       "0            -0.484322  \n",
       "1            -0.484322  \n",
       "2            -0.484322  "
      ]
     },
     "execution_count": 29,
     "metadata": {},
     "output_type": "execute_result"
    }
   ],
   "source": [
    "# Second we will try to standardize data and than we will observe the distribution of data\n",
    "from sklearn.preprocessing import StandardScaler\n",
    "\n",
    "stdsc = StandardScaler()\n",
    "X_train_std = stdsc.fit_transform(X_train)\n",
    "X_test_std = stdsc.transform(X_test)\n",
    "col_names = list(X.columns)\n",
    "df_std = pd.DataFrame(data = X_train_std, columns = col_names)\n",
    "df_std.head(3)"
   ]
  },
  {
   "cell_type": "code",
   "execution_count": 30,
   "metadata": {},
   "outputs": [
    {
     "data": {
      "image/png": "[encoded data removed]",
      "text/plain": [
       "<Figure size 1440x1080 with 16 Axes>"
      ]
     },
     "metadata": {
      "needs_background": "light"
     },
     "output_type": "display_data"
    }
   ],
   "source": [
    "## Visualize standardized data\n",
    "df_std.hist(bins=50, figsize=(20,15))\n",
    "plt.show()"
   ]
  },
  {
   "cell_type": "code",
   "execution_count": 31,
   "metadata": {},
   "outputs": [],
   "source": [
    "# Import  mean_squere_error and mea_absolute_error\n",
    "from sklearn import metrics\n",
    "from sklearn.metrics import mean_absolute_error\n",
    "from sklearn.metrics import mean_squared_error"
   ]
  },
  {
   "cell_type": "code",
   "execution_count": 32,
   "metadata": {},
   "outputs": [],
   "source": [
    "MSE = {}\n",
    "MAE = {}\n",
    "RMSE={}"
   ]
  },
  {
   "cell_type": "code",
   "execution_count": 33,
   "metadata": {},
   "outputs": [],
   "source": [
    "# Define function to go through models\n",
    "def models(model, X_train, y_train, X_test, y_test, model_name):\n",
    "    reg = model\n",
    "    reg.fit(X_train, y_train)\n",
    "    y_pred = reg.predict(X_test)\n",
    "    MSE[model_name] = mean_squared_error(y_test, y_pred)\n",
    "    print(f\"Mean_squared_error of {model_name}: {MSE[model_name]}\\n\")\n",
    "    RMSE[model_name]=np.sqrt(metrics.mean_squared_error(y_test, y_pred))\n",
    "    print(f'RMSE: {RMSE[model_name]}\\n')\n",
    "    MAE[model_name]=mean_absolute_error(y_test,y_pred)              \n",
    "    print(f'Mean_absolute_error: {MAE[model_name]}\\n')\n",
    "    return model, y_pred"
   ]
  },
  {
   "cell_type": "code",
   "execution_count": 34,
   "metadata": {},
   "outputs": [
    {
     "name": "stdout",
     "output_type": "stream",
     "text": [
      "Mean_squared_error of Lin_reg: 34.04472096735815\n",
      "\n",
      "RMSE: 5.834785425991101\n",
      "\n",
      "Mean_absolute_error: 4.666350809106422\n",
      "\n"
     ]
    }
   ],
   "source": [
    "# First model LinearRegression\n",
    "\n",
    "from sklearn.linear_model import LinearRegression\n",
    "lin_reg = LinearRegression()\n",
    "model1 = models(lin_reg, X_train_std, y_train, X_test_std, y_test, 'Lin_reg')"
   ]
  },
  {
   "cell_type": "code",
   "execution_count": 35,
   "metadata": {},
   "outputs": [
    {
     "name": "stdout",
     "output_type": "stream",
     "text": [
      "Mean_squared_error of Svr_linear: 33.915719748777725\n",
      "\n",
      "RMSE: 5.823720438755429\n",
      "\n",
      "Mean_absolute_error: 4.683146327269148\n",
      "\n"
     ]
    }
   ],
   "source": [
    "# Second model SVC kernel linear\n",
    "\n",
    "from sklearn.svm import SVR, LinearSVR\n",
    "svr_linear = SVR(kernel='linear', C=1)\n",
    "model2 = models(svr_linear, X_train_std, y_train, X_test_std, y_test, 'Svr_linear')"
   ]
  },
  {
   "cell_type": "code",
   "execution_count": 36,
   "metadata": {},
   "outputs": [
    {
     "name": "stdout",
     "output_type": "stream",
     "text": [
      "Mean_squared_error of SVR_rbf: 65.39642317820292\n",
      "\n",
      "RMSE: 8.086805498971946\n",
      "\n",
      "Mean_absolute_error: 6.376222735550218\n",
      "\n"
     ]
    }
   ],
   "source": [
    "# Third model SVR_rbf\n",
    "\n",
    "SVR_rbf = SVR()\n",
    "model3 = models(SVR_rbf, X_train_std, y_train, X_test_std, y_test, 'SVR_rbf')"
   ]
  },
  {
   "cell_type": "code",
   "execution_count": 37,
   "metadata": {},
   "outputs": [
    {
     "name": "stdout",
     "output_type": "stream",
     "text": [
      "Mean_squared_error of Ran_for_reg: 33.65252688736111\n",
      "\n",
      "RMSE: 5.8010798035677045\n",
      "\n",
      "Mean_absolute_error: 4.715635833333334\n",
      "\n"
     ]
    }
   ],
   "source": [
    "# Forth model RandomForestRegressor\n",
    "\n",
    "from sklearn.ensemble import RandomForestRegressor\n",
    "Ran_for_reg = RandomForestRegressor()\n",
    "model4 = models(Ran_for_reg, X_train_std, y_train, X_test_std, y_test, 'Ran_for_reg')"
   ]
  },
  {
   "cell_type": "code",
   "execution_count": 38,
   "metadata": {},
   "outputs": [
    {
     "data": {
      "text/plain": [
       "Text(0, 0.5, 'Testing Accuracy')"
      ]
     },
     "execution_count": 38,
     "metadata": {},
     "output_type": "execute_result"
    },
    {
     "data": {
      "image/png": "[encoded data removed]",
      "text/plain": [
       "<Figure size 432x288 with 1 Axes>"
      ]
     },
     "metadata": {
      "needs_background": "light"
     },
     "output_type": "display_data"
    }
   ],
   "source": [
    "# Fifth model KNN\n",
    "from sklearn.neighbors import KNeighborsRegressor\n",
    "from sklearn.metrics import r2_score\n",
    "%matplotlib inline\n",
    "import matplotlib.pyplot as plt\n",
    "\n",
    "#import metrics model to check the accuracy \n",
    "from sklearn import metrics\n",
    "#Try running from k=1 through 25 and record testing accuracy\n",
    "k_range = range(1,26)\n",
    "scores = {}\n",
    "scores_list = []\n",
    "for k in k_range:\n",
    "        knn = KNeighborsRegressor(n_neighbors=k)\n",
    "        knn.fit(X_train_std,y_train)\n",
    "        y_pred=knn.predict(X_test_std)\n",
    "        scores[k] = metrics.mean_squared_error(y_test,y_pred)\n",
    "        scores_list.append(metrics.r2_score(y_test,y_pred))\n",
    "\n",
    "\n",
    "#plot the relationship between K and the testing accuracy\n",
    "plt.plot(k_range,scores_list)\n",
    "plt.xlabel('Value of K for KNN')\n",
    "plt.ylabel('Testing Accuracy')"
   ]
  },
  {
   "cell_type": "code",
   "execution_count": 39,
   "metadata": {},
   "outputs": [
    {
     "name": "stdout",
     "output_type": "stream",
     "text": [
      "Mean_squared_error of KNN: 87.3434\n",
      "\n",
      "RMSE: 9.345769096227448\n",
      "\n",
      "Mean_absolute_error: 7.571000000000001\n",
      "\n"
     ]
    }
   ],
   "source": [
    "# 5th model KNeighborsRegressor\n",
    "KNN = KNeighborsRegressor()\n",
    "model4 = models(KNN, X_train_std, y_train, X_test_std, y_test, 'KNN')"
   ]
  },
  {
   "cell_type": "code",
   "execution_count": 40,
   "metadata": {},
   "outputs": [
    {
     "name": "stdout",
     "output_type": "stream",
     "text": [
      "Mean_squared_error of Xg_reg: 641.6946980534123\n",
      "\n",
      "RMSE: 25.331693548861125\n",
      "\n",
      "Mean_absolute_error: 23.062137527465822\n",
      "\n"
     ]
    }
   ],
   "source": [
    "# 6th XGBoostRegressor\n",
    "import xgboost as xgb\n",
    "xg_reg = xgb.XGBRegressor(objective ='reg:squarederror', colsample_bytree = 0.3, learning_rate = 0.1,\n",
    "                max_depth = 5, alpha = 10, n_estimators = 10)\n",
    "\n",
    "model5 = models(xg_reg, X_train_std, y_train, X_test_std, y_test, 'Xg_reg')"
   ]
  },
  {
   "cell_type": "code",
   "execution_count": 41,
   "metadata": {},
   "outputs": [
    {
     "name": "stdout",
     "output_type": "stream",
     "text": [
      "Mean_squared_error of Dec_tree_reg: 58.60125\n",
      "\n",
      "RMSE: 7.655145328470257\n",
      "\n",
      "Mean_absolute_error: 6.1225\n",
      "\n"
     ]
    }
   ],
   "source": [
    "# 7th model DecisionTreeRegressor\n",
    "from sklearn.tree import DecisionTreeRegressor\n",
    "dec_tree_reg = DecisionTreeRegressor()\n",
    "model7= models(dec_tree_reg, X_train_std, y_train, X_test_std, y_test, 'Dec_tree_reg')"
   ]
  },
  {
   "cell_type": "code",
   "execution_count": 42,
   "metadata": {},
   "outputs": [
    {
     "name": "stdout",
     "output_type": "stream",
     "text": [
      "Mean_squared_error of Bag_reg_extra_tree: 41.4905345\n",
      "\n",
      "RMSE: 6.441314656186266\n",
      "\n",
      "Mean_absolute_error: 5.2528500000000005\n",
      "\n"
     ]
    }
   ],
   "source": [
    "# 8th model ExtraTreeRegressor\n",
    "from sklearn.ensemble import BaggingRegressor\n",
    "from sklearn.tree import ExtraTreeRegressor\n",
    "extra_tree = ExtraTreeRegressor(random_state=0)\n",
    "bag_reg_extra_tree = BaggingRegressor(extra_tree, random_state=0)\n",
    "\n",
    "model8= models(bag_reg_extra_tree, X_train_std, y_train, X_test_std, y_test, 'Bag_reg_extra_tree')"
   ]
  },
  {
   "cell_type": "code",
   "execution_count": 43,
   "metadata": {},
   "outputs": [
    {
     "name": "stdout",
     "output_type": "stream",
     "text": [
      "Mean_squared_error of Ransa: 36.645427823027106\n",
      "\n",
      "RMSE: 6.053546714367298\n",
      "\n",
      "Mean_absolute_error: 4.865676042286438\n",
      "\n"
     ]
    }
   ],
   "source": [
    "#9th model RANSACRegressor\n",
    "\n",
    "from sklearn.linear_model import RANSACRegressor\n",
    "\n",
    "ransa = RANSACRegressor()\n",
    "\n",
    "model9= models(ransa, X_train_std, y_train, X_test_std, y_test, 'Ransa')"
   ]
  },
  {
   "cell_type": "code",
   "execution_count": 44,
   "metadata": {},
   "outputs": [
    {
     "name": "stdout",
     "output_type": "stream",
     "text": [
      "Mean_squared_error of Lasso: 37.84429582663624\n",
      "\n",
      "RMSE: 6.1517717632106805\n",
      "\n",
      "Mean_absolute_error: 4.916352153362173\n",
      "\n"
     ]
    }
   ],
   "source": [
    "#10th model lasso\n",
    "from sklearn.linear_model import Lasso\n",
    "\n",
    "lasso = Lasso()\n",
    "\n",
    "model10= models(lasso, X_train_std, y_train, X_test_std, y_test, 'Lasso')"
   ]
  },
  {
   "cell_type": "code",
   "execution_count": 45,
   "metadata": {},
   "outputs": [
    {
     "data": {
      "text/html": [
       "<div>\n",
       "<style scoped>\n",
       "    .dataframe tbody tr th:only-of-type {\n",
       "        vertical-align: middle;\n",
       "    }\n",
       "\n",
       "    .dataframe tbody tr th {\n",
       "        vertical-align: top;\n",
       "    }\n",
       "\n",
       "    .dataframe thead th {\n",
       "        text-align: right;\n",
       "    }\n",
       "</style>\n",
       "<table border=\"1\" class=\"dataframe\">\n",
       "  <thead>\n",
       "    <tr style=\"text-align: right;\">\n",
       "      <th></th>\n",
       "      <th>Models</th>\n",
       "      <th>MSE</th>\n",
       "    </tr>\n",
       "  </thead>\n",
       "  <tbody>\n",
       "    <tr>\n",
       "      <th>0</th>\n",
       "      <td>Lin_reg</td>\n",
       "      <td>34.044721</td>\n",
       "    </tr>\n",
       "    <tr>\n",
       "      <th>1</th>\n",
       "      <td>Svr_linear</td>\n",
       "      <td>33.915720</td>\n",
       "    </tr>\n",
       "    <tr>\n",
       "      <th>2</th>\n",
       "      <td>SVR_rbf</td>\n",
       "      <td>65.396423</td>\n",
       "    </tr>\n",
       "    <tr>\n",
       "      <th>3</th>\n",
       "      <td>Ran_for_reg</td>\n",
       "      <td>33.652527</td>\n",
       "    </tr>\n",
       "    <tr>\n",
       "      <th>4</th>\n",
       "      <td>KNN</td>\n",
       "      <td>87.343400</td>\n",
       "    </tr>\n",
       "    <tr>\n",
       "      <th>5</th>\n",
       "      <td>Xg_reg</td>\n",
       "      <td>641.694698</td>\n",
       "    </tr>\n",
       "    <tr>\n",
       "      <th>6</th>\n",
       "      <td>Dec_tree_reg</td>\n",
       "      <td>58.601250</td>\n",
       "    </tr>\n",
       "    <tr>\n",
       "      <th>7</th>\n",
       "      <td>Bag_reg_extra_tree</td>\n",
       "      <td>41.490535</td>\n",
       "    </tr>\n",
       "    <tr>\n",
       "      <th>8</th>\n",
       "      <td>Ransa</td>\n",
       "      <td>36.645428</td>\n",
       "    </tr>\n",
       "    <tr>\n",
       "      <th>9</th>\n",
       "      <td>Lasso</td>\n",
       "      <td>37.844296</td>\n",
       "    </tr>\n",
       "  </tbody>\n",
       "</table>\n",
       "</div>"
      ],
      "text/plain": [
       "               Models         MSE\n",
       "0             Lin_reg   34.044721\n",
       "1          Svr_linear   33.915720\n",
       "2             SVR_rbf   65.396423\n",
       "3         Ran_for_reg   33.652527\n",
       "4                 KNN   87.343400\n",
       "5              Xg_reg  641.694698\n",
       "6        Dec_tree_reg   58.601250\n",
       "7  Bag_reg_extra_tree   41.490535\n",
       "8               Ransa   36.645428\n",
       "9               Lasso   37.844296"
      ]
     },
     "execution_count": 45,
     "metadata": {},
     "output_type": "execute_result"
    }
   ],
   "source": [
    "# Lets see the results of models of MSE\n",
    "df_MSE = pd.DataFrame({'Models': list(MSE.keys()),\n",
    "                          'MSE': list(MSE.values())})\n",
    "df_MSE"
   ]
  },
  {
   "cell_type": "code",
   "execution_count": 46,
   "metadata": {},
   "outputs": [
    {
     "data": {
      "text/plain": [
       "[Text(0, 0.5, 'MSE')]"
      ]
     },
     "execution_count": 46,
     "metadata": {},
     "output_type": "execute_result"
    },
    {
     "data": {
      "image/png": "[encoded data removed]",
      "text/plain": [
       "<Figure size 1224x504 with 1 Axes>"
      ]
     },
     "metadata": {
      "needs_background": "light"
     },
     "output_type": "display_data"
    }
   ],
   "source": [
    "plt.figure(figsize=(17,7))\n",
    "ax = sns.barplot(x = \"Models\", y = \"MSE\", data = df_MSE)\n",
    "ax.set(ylabel = \"MSE\")"
   ]
  },
  {
   "cell_type": "code",
   "execution_count": 47,
   "metadata": {},
   "outputs": [
    {
     "name": "stdout",
     "output_type": "stream",
     "text": [
      "The model with the smallest Mean_square_error is Ran_for_reg and it's error is 33.65252688736111\n"
     ]
    }
   ],
   "source": [
    "# Model with the smalest error\n",
    "print(f\"The model with the smallest Mean_square_error is {min(MSE, key=MSE.get)} and it's error is {MSE[min(MSE, key=MSE.get)]}\")"
   ]
  },
  {
   "cell_type": "code",
   "execution_count": 48,
   "metadata": {},
   "outputs": [
    {
     "data": {
      "text/html": [
       "<div>\n",
       "<style scoped>\n",
       "    .dataframe tbody tr th:only-of-type {\n",
       "        vertical-align: middle;\n",
       "    }\n",
       "\n",
       "    .dataframe tbody tr th {\n",
       "        vertical-align: top;\n",
       "    }\n",
       "\n",
       "    .dataframe thead th {\n",
       "        text-align: right;\n",
       "    }\n",
       "</style>\n",
       "<table border=\"1\" class=\"dataframe\">\n",
       "  <thead>\n",
       "    <tr style=\"text-align: right;\">\n",
       "      <th></th>\n",
       "      <th>Models</th>\n",
       "      <th>MAE</th>\n",
       "    </tr>\n",
       "  </thead>\n",
       "  <tbody>\n",
       "    <tr>\n",
       "      <th>0</th>\n",
       "      <td>Lin_reg</td>\n",
       "      <td>4.666351</td>\n",
       "    </tr>\n",
       "    <tr>\n",
       "      <th>1</th>\n",
       "      <td>Svr_linear</td>\n",
       "      <td>4.683146</td>\n",
       "    </tr>\n",
       "    <tr>\n",
       "      <th>2</th>\n",
       "      <td>SVR_rbf</td>\n",
       "      <td>6.376223</td>\n",
       "    </tr>\n",
       "    <tr>\n",
       "      <th>3</th>\n",
       "      <td>Ran_for_reg</td>\n",
       "      <td>4.715636</td>\n",
       "    </tr>\n",
       "    <tr>\n",
       "      <th>4</th>\n",
       "      <td>KNN</td>\n",
       "      <td>7.571000</td>\n",
       "    </tr>\n",
       "    <tr>\n",
       "      <th>5</th>\n",
       "      <td>Xg_reg</td>\n",
       "      <td>23.062138</td>\n",
       "    </tr>\n",
       "    <tr>\n",
       "      <th>6</th>\n",
       "      <td>Dec_tree_reg</td>\n",
       "      <td>6.122500</td>\n",
       "    </tr>\n",
       "    <tr>\n",
       "      <th>7</th>\n",
       "      <td>Bag_reg_extra_tree</td>\n",
       "      <td>5.252850</td>\n",
       "    </tr>\n",
       "    <tr>\n",
       "      <th>8</th>\n",
       "      <td>Ransa</td>\n",
       "      <td>4.865676</td>\n",
       "    </tr>\n",
       "    <tr>\n",
       "      <th>9</th>\n",
       "      <td>Lasso</td>\n",
       "      <td>4.916352</td>\n",
       "    </tr>\n",
       "  </tbody>\n",
       "</table>\n",
       "</div>"
      ],
      "text/plain": [
       "               Models        MAE\n",
       "0             Lin_reg   4.666351\n",
       "1          Svr_linear   4.683146\n",
       "2             SVR_rbf   6.376223\n",
       "3         Ran_for_reg   4.715636\n",
       "4                 KNN   7.571000\n",
       "5              Xg_reg  23.062138\n",
       "6        Dec_tree_reg   6.122500\n",
       "7  Bag_reg_extra_tree   5.252850\n",
       "8               Ransa   4.865676\n",
       "9               Lasso   4.916352"
      ]
     },
     "execution_count": 48,
     "metadata": {},
     "output_type": "execute_result"
    }
   ],
   "source": [
    "# Lets see the results of models of MAE\n",
    "df_MAE = pd.DataFrame({'Models': list(MAE.keys()),\n",
    "                          'MAE': list(MAE.values())})\n",
    "df_MAE"
   ]
  },
  {
   "cell_type": "code",
   "execution_count": 49,
   "metadata": {},
   "outputs": [
    {
     "name": "stdout",
     "output_type": "stream",
     "text": [
      "The model with the smallest Mean_absolut_error is Lin_reg and it's error is 4.666350809106422\n"
     ]
    }
   ],
   "source": [
    "# Model with the smalest mean absolut error\n",
    "print(f\"The model with the smallest Mean_absolut_error is {min(MAE, key=MAE.get)} and it's error is {MAE[min(MAE, key=MAE.get)]}\")"
   ]
  },
  {
   "cell_type": "code",
   "execution_count": 50,
   "metadata": {},
   "outputs": [
    {
     "data": {
      "text/html": [
       "<div>\n",
       "<style scoped>\n",
       "    .dataframe tbody tr th:only-of-type {\n",
       "        vertical-align: middle;\n",
       "    }\n",
       "\n",
       "    .dataframe tbody tr th {\n",
       "        vertical-align: top;\n",
       "    }\n",
       "\n",
       "    .dataframe thead th {\n",
       "        text-align: right;\n",
       "    }\n",
       "</style>\n",
       "<table border=\"1\" class=\"dataframe\">\n",
       "  <thead>\n",
       "    <tr style=\"text-align: right;\">\n",
       "      <th></th>\n",
       "      <th>Actual</th>\n",
       "      <th>Predicted</th>\n",
       "    </tr>\n",
       "  </thead>\n",
       "  <tbody>\n",
       "    <tr>\n",
       "      <th>993</th>\n",
       "      <td>62</td>\n",
       "      <td>67.64</td>\n",
       "    </tr>\n",
       "    <tr>\n",
       "      <th>859</th>\n",
       "      <td>87</td>\n",
       "      <td>65.60</td>\n",
       "    </tr>\n",
       "    <tr>\n",
       "      <th>298</th>\n",
       "      <td>40</td>\n",
       "      <td>56.48</td>\n",
       "    </tr>\n",
       "    <tr>\n",
       "      <th>553</th>\n",
       "      <td>77</td>\n",
       "      <td>63.20</td>\n",
       "    </tr>\n",
       "    <tr>\n",
       "      <th>672</th>\n",
       "      <td>69</td>\n",
       "      <td>66.84</td>\n",
       "    </tr>\n",
       "  </tbody>\n",
       "</table>\n",
       "</div>"
      ],
      "text/plain": [
       "     Actual  Predicted\n",
       "993      62      67.64\n",
       "859      87      65.60\n",
       "298      40      56.48\n",
       "553      77      63.20\n",
       "672      69      66.84"
      ]
     },
     "execution_count": 50,
     "metadata": {},
     "output_type": "execute_result"
    }
   ],
   "source": [
    "# At the end let see how good is our prediction\n",
    "df_check = pd.DataFrame({'Actual': y_test, 'Predicted': y_pred})\n",
    "df_check.head(5)"
   ]
  },
  {
   "cell_type": "code",
   "execution_count": 51,
   "metadata": {},
   "outputs": [
    {
     "data": {
      "image/png": "[encoded data removed]",
      "text/plain": [
       "<Figure size 360x360 with 1 Axes>"
      ]
     },
     "metadata": {
      "needs_background": "light"
     },
     "output_type": "display_data"
    }
   ],
   "source": [
    "ax = sns.lmplot(x=\"Actual\", y=\"Predicted\", data=df_check)\n"
   ]
  },
  {
   "cell_type": "markdown",
   "metadata": {},
   "source": [
    "# THE END"
   ]
  }
 ],
 "metadata": {
  "kernelspec": {
   "display_name": "Python 3",
   "language": "python",
   "name": "python3"
  },
  "language_info": {
   "codemirror_mode": {
    "name": "ipython",
    "version": 3
   },
   "file_extension": ".py",
   "mimetype": "text/x-python",
   "name": "python",
   "nbconvert_exporter": "python",
   "pygments_lexer": "ipython3",
   "version": "3.7.6"
  }
 },
 "nbformat": 4,
 "nbformat_minor": 4
}
